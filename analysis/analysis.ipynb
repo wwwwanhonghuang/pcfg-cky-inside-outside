{
 "cells": [
  {
   "cell_type": "code",
   "execution_count": 1,
   "metadata": {},
   "outputs": [],
   "source": [
    "import numpy as np\n",
    "import os, sys"
   ]
  },
  {
   "cell_type": "code",
   "execution_count": 6,
   "metadata": {},
   "outputs": [],
   "source": [
    "report_base_path = \"../data/reports\"\n",
    "report_file_names = os.listdir(report_base_path)"
   ]
  },
  {
   "cell_type": "code",
   "execution_count": null,
   "metadata": {},
   "outputs": [
    {
     "name": "stdout",
     "output_type": "stream",
     "text": [
      "{'sentence': [8, 7, 10, 6, 9], 'derivation_entropy': 0.0, 'word_entropy': 0.0, 'word_delay_1_mutual_entropy': 0.0, 'word_delay_2_mutual_entropy': 0.0, 'word_delay_3_mutual_entropy': 0.0, 'word_delay_4_mutual_entropy': 0.0, 'word_delay_5_mutual_entropy': 0.0, 'derivation_delay_1_mutual_entropy': 0.0, 'derivation_delay_2_mutual_entropy': 0.0, 'derivation_delay_3_mutual_entropy': 0.0, 'derivation_delay_4_mutual_entropy': 0.0, 'derivation_delay_5_mutual_entropy': 0.0, 'depth_of_tree': 6.0, '1_layer_symbol_tree_transitional_entropy': 0.0, '2_layer_symbol_tree_transitional_entropy': 1.38629, '3_layer_symbol_tree_transitional_entropy': 0.0, '4_layer_symbol_tree_transitional_entropy': 0.0, '5_layer_symbol_tree_transitional_entropy': 0.0, '1_layer_derivation_tree_transitional_entropy': 0.0, '2_layer_derivation_tree_transitional_entropy': 1.38629, '3_layer_derivation_tree_transitional_entropy': 0.0, '4_layer_derivation_tree_transitional_entropy': 0.0, '5_layer_derivation_tree_transitional_entropy': 0.0, 'pre_2_end_4': 2.83427, 'pre_2_end_3': 2.5462, 'pre_2_end_2': 2.19417, 'pre_3_end_4': 2.83427, 'pre_3_end_3': 2.5462, 'pre_4_end_4': 2.83427}\n",
      "{'sentence': [8, 7, 10, 6, 9], 'derivation_entropy': 0.0, 'word_entropy': 0.0, 'word_delay_1_mutual_entropy': 0.0, 'word_delay_2_mutual_entropy': 0.0, 'word_delay_3_mutual_entropy': 0.0, 'word_delay_4_mutual_entropy': 0.0, 'word_delay_5_mutual_entropy': 0.0, 'derivation_delay_1_mutual_entropy': 0.0, 'derivation_delay_2_mutual_entropy': 0.0, 'derivation_delay_3_mutual_entropy': 0.0, 'derivation_delay_4_mutual_entropy': 0.0, 'derivation_delay_5_mutual_entropy': 0.0, 'depth_of_tree': 6.0, '1_layer_symbol_tree_transitional_entropy': 0.0, '2_layer_symbol_tree_transitional_entropy': 1.38629, '3_layer_symbol_tree_transitional_entropy': 0.0, '4_layer_symbol_tree_transitional_entropy': 0.0, '5_layer_symbol_tree_transitional_entropy': 0.0, '1_layer_derivation_tree_transitional_entropy': 0.0, '2_layer_derivation_tree_transitional_entropy': 1.38629, '3_layer_derivation_tree_transitional_entropy': 0.0, '4_layer_derivation_tree_transitional_entropy': 0.0, '5_layer_derivation_tree_transitional_entropy': 0.0, 'pre_2_end_4': 2.83427, 'pre_2_end_3': 2.5462, 'pre_2_end_2': 2.19417, 'pre_3_end_4': 2.83427, 'pre_3_end_3': 2.5462, 'pre_4_end_4': 2.83427}\n",
      "{'sentence': [8, 7, 10, 6, 9], 'derivation_entropy': 0.0, 'word_entropy': 0.0, 'word_delay_1_mutual_entropy': 0.0, 'word_delay_2_mutual_entropy': 0.0, 'word_delay_3_mutual_entropy': 0.0, 'word_delay_4_mutual_entropy': 0.0, 'word_delay_5_mutual_entropy': 0.0, 'derivation_delay_1_mutual_entropy': 0.0, 'derivation_delay_2_mutual_entropy': 0.0, 'derivation_delay_3_mutual_entropy': 0.0, 'derivation_delay_4_mutual_entropy': 0.0, 'derivation_delay_5_mutual_entropy': 0.0, 'depth_of_tree': 6.0, '1_layer_symbol_tree_transitional_entropy': 0.0, '2_layer_symbol_tree_transitional_entropy': 1.38629, '3_layer_symbol_tree_transitional_entropy': 0.0, '4_layer_symbol_tree_transitional_entropy': 0.0, '5_layer_symbol_tree_transitional_entropy': 0.0, '1_layer_derivation_tree_transitional_entropy': 0.0, '2_layer_derivation_tree_transitional_entropy': 1.38629, '3_layer_derivation_tree_transitional_entropy': 0.0, '4_layer_derivation_tree_transitional_entropy': 0.0, '5_layer_derivation_tree_transitional_entropy': 0.0, 'pre_2_end_4': 2.83427, 'pre_2_end_3': 2.5462, 'pre_2_end_2': 2.19417, 'pre_3_end_4': 2.83427, 'pre_3_end_3': 2.5462, 'pre_4_end_4': 2.83427}\n",
      "{'sentence': [8, 7, 10, 6, 9], 'derivation_entropy': 0.0, 'word_entropy': 0.0, 'word_delay_1_mutual_entropy': 0.0, 'word_delay_2_mutual_entropy': 0.0, 'word_delay_3_mutual_entropy': 0.0, 'word_delay_4_mutual_entropy': 0.0, 'word_delay_5_mutual_entropy': 0.0, 'derivation_delay_1_mutual_entropy': 0.0, 'derivation_delay_2_mutual_entropy': 0.0, 'derivation_delay_3_mutual_entropy': 0.0, 'derivation_delay_4_mutual_entropy': 0.0, 'derivation_delay_5_mutual_entropy': 0.0, 'depth_of_tree': 6.0, '1_layer_symbol_tree_transitional_entropy': 0.0, '2_layer_symbol_tree_transitional_entropy': 1.38629, '3_layer_symbol_tree_transitional_entropy': 0.0, '4_layer_symbol_tree_transitional_entropy': 0.0, '5_layer_symbol_tree_transitional_entropy': 0.0, '1_layer_derivation_tree_transitional_entropy': 0.0, '2_layer_derivation_tree_transitional_entropy': 1.38629, '3_layer_derivation_tree_transitional_entropy': 0.0, '4_layer_derivation_tree_transitional_entropy': 0.0, '5_layer_derivation_tree_transitional_entropy': 0.0, 'pre_2_end_4': 2.83427, 'pre_2_end_3': 2.5462, 'pre_2_end_2': 2.19417, 'pre_3_end_4': 2.83427, 'pre_3_end_3': 2.5462, 'pre_4_end_4': 2.83427}\n",
      "{'sentence': [8, 7, 10, 6, 9], 'derivation_entropy': 0.0, 'word_entropy': 0.0, 'word_delay_1_mutual_entropy': 0.0, 'word_delay_2_mutual_entropy': 0.0, 'word_delay_3_mutual_entropy': 0.0, 'word_delay_4_mutual_entropy': 0.0, 'word_delay_5_mutual_entropy': 0.0, 'derivation_delay_1_mutual_entropy': 0.0, 'derivation_delay_2_mutual_entropy': 0.0, 'derivation_delay_3_mutual_entropy': 0.0, 'derivation_delay_4_mutual_entropy': 0.0, 'derivation_delay_5_mutual_entropy': 0.0, 'depth_of_tree': 6.0, '1_layer_symbol_tree_transitional_entropy': 0.0, '2_layer_symbol_tree_transitional_entropy': 1.38629, '3_layer_symbol_tree_transitional_entropy': 0.0, '4_layer_symbol_tree_transitional_entropy': 0.0, '5_layer_symbol_tree_transitional_entropy': 0.0, '1_layer_derivation_tree_transitional_entropy': 0.0, '2_layer_derivation_tree_transitional_entropy': 1.38629, '3_layer_derivation_tree_transitional_entropy': 0.0, '4_layer_derivation_tree_transitional_entropy': 0.0, '5_layer_derivation_tree_transitional_entropy': 0.0, 'pre_2_end_4': 2.83427, 'pre_2_end_3': 2.5462, 'pre_2_end_2': 2.19417, 'pre_3_end_4': 2.83427, 'pre_3_end_3': 2.5462, 'pre_4_end_4': 2.83427}\n",
      "{'sentence': [8, 7, 10, 6, 9], 'derivation_entropy': 0.0, 'word_entropy': 0.0, 'word_delay_1_mutual_entropy': 0.0, 'word_delay_2_mutual_entropy': 0.0, 'word_delay_3_mutual_entropy': 0.0, 'word_delay_4_mutual_entropy': 0.0, 'word_delay_5_mutual_entropy': 0.0, 'derivation_delay_1_mutual_entropy': 0.0, 'derivation_delay_2_mutual_entropy': 0.0, 'derivation_delay_3_mutual_entropy': 0.0, 'derivation_delay_4_mutual_entropy': 0.0, 'derivation_delay_5_mutual_entropy': 0.0, 'depth_of_tree': 6.0, '1_layer_symbol_tree_transitional_entropy': 0.0, '2_layer_symbol_tree_transitional_entropy': 1.38629, '3_layer_symbol_tree_transitional_entropy': 0.0, '4_layer_symbol_tree_transitional_entropy': 0.0, '5_layer_symbol_tree_transitional_entropy': 0.0, '1_layer_derivation_tree_transitional_entropy': 0.0, '2_layer_derivation_tree_transitional_entropy': 1.38629, '3_layer_derivation_tree_transitional_entropy': 0.0, '4_layer_derivation_tree_transitional_entropy': 0.0, '5_layer_derivation_tree_transitional_entropy': 0.0, 'pre_2_end_4': 2.83427, 'pre_2_end_3': 2.5462, 'pre_2_end_2': 2.19417, 'pre_3_end_4': 2.83427, 'pre_3_end_3': 2.5462, 'pre_4_end_4': 2.83427}\n"
     ]
    }
   ],
   "source": [
    "def parse_report(content_of_report):\n",
    "    from functools import reduce\n",
    "    lines = content_of_report.split(\"\\n\")\n",
    "    parse_result = {}\n",
    "    sentence = reduce(lambda x, y: x + [int(y)], filter(lambda x: x != \"\", lines[0].strip().split(\" \")), [])\n",
    "    parse_result['sentence'] = sentence\n",
    "    for line in lines[1:]:\n",
    "        line = line.strip()\n",
    "        if(line == \"\"):\n",
    "            continue\n",
    "        \n",
    "        key_value = line.split(\":\")\n",
    "        parse_result[key_value[0].strip()] = float(key_value[1].strip())\n",
    "        \n",
    "    return parse_result\n",
    "    \n",
    "for report_file_name in report_file_names:\n",
    "    with open(os.path.join(report_base_path, report_file_name), \"r\") as f:\n",
    "        content = f.read()\n",
    "        print(parse_report(content))\n",
    "        f.close()"
   ]
  },
  {
   "cell_type": "code",
   "execution_count": null,
   "metadata": {},
   "outputs": [],
   "source": []
  },
  {
   "cell_type": "code",
   "execution_count": null,
   "metadata": {},
   "outputs": [],
   "source": []
  }
 ],
 "metadata": {
  "kernelspec": {
   "display_name": "sakuyui310",
   "language": "python",
   "name": "python3"
  },
  "language_info": {
   "codemirror_mode": {
    "name": "ipython",
    "version": 3
   },
   "file_extension": ".py",
   "mimetype": "text/x-python",
   "name": "python",
   "nbconvert_exporter": "python",
   "pygments_lexer": "ipython3",
   "version": "3.10.14"
  }
 },
 "nbformat": 4,
 "nbformat_minor": 2
}
